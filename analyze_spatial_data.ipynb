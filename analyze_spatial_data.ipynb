{
 "cells": [
  {
   "cell_type": "code",
   "execution_count": null,
   "id": "a1015e40-53de-46cb-b19e-6866213181c8",
   "metadata": {},
   "outputs": [],
   "source": [
    "import os\n",
    "import sys\n",
    "from glob import glob\n",
    "\n",
    "import cartopy.crs as ccrs\n",
    "import cmocean\n",
    "import dask\n",
    "import matplotlib.colors as colors\n",
    "import matplotlib.pyplot as plt\n",
    "import numpy as np\n",
    "import xarray as xr\n",
    "\n",
    "# Local Utils\n",
    "sys.path.insert(0, \"/glade/work/zespinosa/Projects/utils\")\n",
    "from utils import (\n",
    "    plot_stationary_sp,\n",
    "    xarray_monthly_to_time,\n",
    "    xarray_time_to_monthly,\n",
    ")"
   ]
  },
  {
   "cell_type": "code",
   "execution_count": 7,
   "id": "eac4db4e-7574-4b42-89e2-a8100f4147e1",
   "metadata": {},
   "outputs": [],
   "source": [
    "# TODO: add all of this to preprocessing data file! Why are psl anomalies offset for ERA5?"
   ]
  },
  {
   "cell_type": "markdown",
   "id": "f8af6d2f-0a7c-49fb-b15b-b9c3aa6413e5",
   "metadata": {},
   "source": [
    "LOAD DATA"
   ]
  },
  {
   "cell_type": "code",
   "execution_count": 9,
   "id": "56ca1bfa-1cb2-4870-8ccf-0cd034ef8d8c",
   "metadata": {},
   "outputs": [],
   "source": [
    "# Load cesm-nudged psl\n",
    "cesm_nudged_psl_anoms = xr.open_dataarray(\"/glade/work/zespinosa/Projects/antarctic-2022_record-low_nudge-analysis/processed_data/cesm-nudged_psl_anoms_198501-202412.nc\")\n",
    "cesm_nudged_psl = xr.open_dataarray(\"/glade/work/zespinosa/Projects/antarctic-2022_record-low_nudge-analysis/processed_data/cesm-nudged_psl_198501-202412.nc\")\n",
    "\n",
    "# Load cesm-nudged siconc\n",
    "cesm_nudged_siconc_anoms = xr.open_dataarray(\"/glade/work/zespinosa/Projects/antarctic-2022_record-low_nudge-analysis/processed_data/cesm_nudged_siconc-anoms_198501-202412.nc\")\n",
    "cesm_nudged_siconc = xr.open_dataset(\"/glade/work/zespinosa/Projects/antarctic-2022_record-low_nudge-analysis/processed_data/cesm_nudged_siconc_198501-202412.nc\")\n",
    "\n",
    "# Load nsidc siconc\n",
    "nsidc_siconc_anoms = xr.open_dataarray(\"/glade/work/zespinosa/Projects/antarctic-2022_record-low_nudge-analysis/processed_data/nsidc_siconc-anoms_197901-202211.nc\")\n",
    "nsidc_siconc = xarray_time_to_monthly(xr.open_dataset(\"/glade/work/zespinosa/data/nsidc/processed/siconc_NSIDC_197901-202210.nc\").cdr_seaice_conc_monthly)\n",
    "\n",
    "# Load era5 psl\n",
    "era5_slp = xr.open_dataarray(\"/glade/work/zespinosa/Projects/antarctic-2022_record-low_nudge-analysis/processed_data/era5_slp-monthly_197901-202211.nc\")\n",
    "era5_slp_anoms = xr.open_dataarray(\"/glade/work/zespinosa/Projects/antarctic-2022_record-low_nudge-analysis/processed_data/era5_slp-anoms_197901-202211.nc\")\n",
    "era5_land_mask = xarray_time_to_monthly(xr.open_dataset(\"/glade/work/zespinosa/GRIDS/era5_landsea_mask.nc\")).sel(expver=1, year=era5_slp.year).lsm\n",
    "era5_slp = xr.where(era5_land_mask <= 0.5, era5_slp, np.nan, keep_attrs=True)"
   ]
  },
  {
   "cell_type": "markdown",
   "id": "09cefd72-c528-47ca-9d8d-098537db9fe6",
   "metadata": {},
   "source": [
    "Observations Spatial Plots"
   ]
  },
  {
   "cell_type": "code",
   "execution_count": 1,
   "id": "0c04b635-5c1b-44aa-9b71-802e2cbc9ad7",
   "metadata": {},
   "outputs": [],
   "source": [
    "# Plot anomalies of sea ice concentration and MSLP\n",
    "def spatial_obs_anoms_plots(siconc, psl, title, sp):\n",
    "    fig, ax = plot_stationary_sp()\n",
    "    # Plot siconc filled contours\n",
    "    img = ax.contourf(\n",
    "        siconc.longitude,\n",
    "        siconc.latitude,\n",
    "        siconc,\n",
    "        transform=ccrs.SouthPolarStereo(), \n",
    "        levels=np.arange(-.9, 1.1, .2),\n",
    "        cmap=\"RdBu\",\n",
    "    )\n",
    "    # Plot Surface Pressure Contours\n",
    "    con = ax.contour(\n",
    "        psl.longitude,\n",
    "        psl.latitude,\n",
    "        psl,\n",
    "        transform=ccrs.PlateCarree(), \n",
    "        levels=np.arange(-14, 16, 3),\n",
    "        colors=[\"black\"],\n",
    "        negative_linestyle=\"dashed\",\n",
    "    )\n",
    "    ax.clabel(con, con.levels, inline=True, fontsize=14)\n",
    "    cbar2 = fig.colorbar(img, ax=ax)\n",
    "    ax.set_title(title)\n",
    "    fig.set_size_inches(8, 8)\n",
    "    plt.savefig(sp)\n",
    "    plt.clf()\n",
    "\n",
    "# Plot sea ice concentration and MSLP\n",
    "def spatial_obs_plots(siconc, psl, title, sp):\n",
    "    fig, ax = plot_stationary_sp()\n",
    "    # Plot siconc filled contours\n",
    "    img = ax.contourf(\n",
    "        siconc.longitude,\n",
    "        siconc.latitude,\n",
    "        siconc,\n",
    "        transform=ccrs.SouthPolarStereo(), \n",
    "        levels=np.arange(0, 1.1, .1),\n",
    "        cmap=cmocean.cm.ice,\n",
    "    )\n",
    "    # Plot Surface Pressure Contours\n",
    "    con = ax.contour(\n",
    "        psl.longitude,\n",
    "        psl.latitude,\n",
    "        psl,\n",
    "        levels=np.arange(950, 1005, 5),\n",
    "        transform=ccrs.PlateCarree(), \n",
    "        colors=[\"black\"],\n",
    "    )\n",
    "    ax.clabel(con, con.levels, inline=True, fontsize=14)\n",
    "    cbar2 = fig.colorbar(img, ax=ax)\n",
    "    ax.set_title(title)\n",
    "    fig.set_size_inches(8, 8)\n",
    "    plt.savefig(sp)\n",
    "    plt.clf()\n",
    "\n",
    "def create_monthly_obs_plots(siconc_anoms, psl_anoms, siconc, psl):\n",
    "    for year in [2021, 2022] : \n",
    "        for month in range(1, 13):\n",
    "            cur_siconc_anoms = siconc_anoms.sel(year=year, month=month)\n",
    "            cur_psl_anoms = psl_anoms.sel(year=year, month=month)\n",
    "            spatial_obs_anoms_plots(\n",
    "                siconc=cur_siconc_anoms,\n",
    "                psl=cur_psl_anoms/100, # Convert from Pa to hPa \n",
    "                title=f\"Observations {year}-{month}\",\n",
    "                sp=os.path.join(f\"/glade/work/zespinosa/Projects/antarctic-2022_record-low_nudge-analysis/figures/anoms/observations_siconc-slp-anoms_{year}-{month}.png\")\n",
    "            )\n",
    "            \n",
    "            cur_siconc = siconc.sel(year=year, month=month)\n",
    "            cur_siconc = xr.where(0.05 > cur_siconc, np.nan, cur_siconc, keep_attrs=True)\n",
    "            cur_psl = psl.sel(year=year, month=month)\n",
    "            spatial_obs_plots(\n",
    "                siconc=cur_siconc,\n",
    "                psl=cur_psl/100, # Convert from Pa to hPa \n",
    "                title=f\"Observations {year}-{month}\",\n",
    "                sp=os.path.join(f\"/glade/work/zespinosa/Projects/antarctic-2022_record-low_nudge-analysis/figures/absolute/observations_siconc-slp_{year}-{month}.png\")\n",
    "            )\n",
    "\n",
    "# create_monthly_obs_plots(\n",
    "#     siconc_anoms=nsidc_siconc_anoms, \n",
    "#     psl_anoms=era5_slp_anoms,\n",
    "#     siconc=nsidc_siconc,\n",
    "#     psl=era5_slp,\n",
    "# )"
   ]
  },
  {
   "cell_type": "markdown",
   "id": "9d93d484-0825-4f79-9db4-942bd6bb48b9",
   "metadata": {},
   "source": [
    "CESM1-Nudged Spatial Plots"
   ]
  },
  {
   "cell_type": "code",
   "execution_count": 29,
   "id": "05534ab0-7a1a-44af-a980-4ba5187623e0",
   "metadata": {},
   "outputs": [
    {
     "name": "stderr",
     "output_type": "stream",
     "text": [
      "/glade/work/zespinosa/Projects/utils/utils.py:88: RuntimeWarning: More than 20 figures have been opened. Figures created through the pyplot interface (`matplotlib.pyplot.figure`) are retained until explicitly closed and may consume too much memory. (To control this warning, see the rcParam `figure.max_open_warning`).\n",
      "  \"\"\"\n"
     ]
    },
    {
     "data": {
      "text/plain": [
       "<Figure size 800x800 with 0 Axes>"
      ]
     },
     "metadata": {},
     "output_type": "display_data"
    },
    {
     "data": {
      "text/plain": [
       "<Figure size 800x800 with 0 Axes>"
      ]
     },
     "metadata": {},
     "output_type": "display_data"
    },
    {
     "data": {
      "text/plain": [
       "<Figure size 800x800 with 0 Axes>"
      ]
     },
     "metadata": {},
     "output_type": "display_data"
    },
    {
     "data": {
      "text/plain": [
       "<Figure size 800x800 with 0 Axes>"
      ]
     },
     "metadata": {},
     "output_type": "display_data"
    },
    {
     "data": {
      "text/plain": [
       "<Figure size 800x800 with 0 Axes>"
      ]
     },
     "metadata": {},
     "output_type": "display_data"
    },
    {
     "data": {
      "text/plain": [
       "<Figure size 800x800 with 0 Axes>"
      ]
     },
     "metadata": {},
     "output_type": "display_data"
    },
    {
     "data": {
      "text/plain": [
       "<Figure size 800x800 with 0 Axes>"
      ]
     },
     "metadata": {},
     "output_type": "display_data"
    },
    {
     "data": {
      "text/plain": [
       "<Figure size 800x800 with 0 Axes>"
      ]
     },
     "metadata": {},
     "output_type": "display_data"
    },
    {
     "data": {
      "text/plain": [
       "<Figure size 800x800 with 0 Axes>"
      ]
     },
     "metadata": {},
     "output_type": "display_data"
    },
    {
     "data": {
      "text/plain": [
       "<Figure size 800x800 with 0 Axes>"
      ]
     },
     "metadata": {},
     "output_type": "display_data"
    },
    {
     "data": {
      "text/plain": [
       "<Figure size 800x800 with 0 Axes>"
      ]
     },
     "metadata": {},
     "output_type": "display_data"
    },
    {
     "data": {
      "text/plain": [
       "<Figure size 800x800 with 0 Axes>"
      ]
     },
     "metadata": {},
     "output_type": "display_data"
    },
    {
     "data": {
      "text/plain": [
       "<Figure size 800x800 with 0 Axes>"
      ]
     },
     "metadata": {},
     "output_type": "display_data"
    },
    {
     "data": {
      "text/plain": [
       "<Figure size 800x800 with 0 Axes>"
      ]
     },
     "metadata": {},
     "output_type": "display_data"
    },
    {
     "data": {
      "text/plain": [
       "<Figure size 800x800 with 0 Axes>"
      ]
     },
     "metadata": {},
     "output_type": "display_data"
    },
    {
     "data": {
      "text/plain": [
       "<Figure size 800x800 with 0 Axes>"
      ]
     },
     "metadata": {},
     "output_type": "display_data"
    },
    {
     "data": {
      "text/plain": [
       "<Figure size 800x800 with 0 Axes>"
      ]
     },
     "metadata": {},
     "output_type": "display_data"
    },
    {
     "data": {
      "text/plain": [
       "<Figure size 800x800 with 0 Axes>"
      ]
     },
     "metadata": {},
     "output_type": "display_data"
    },
    {
     "data": {
      "text/plain": [
       "<Figure size 800x800 with 0 Axes>"
      ]
     },
     "metadata": {},
     "output_type": "display_data"
    },
    {
     "data": {
      "text/plain": [
       "<Figure size 800x800 with 0 Axes>"
      ]
     },
     "metadata": {},
     "output_type": "display_data"
    },
    {
     "data": {
      "text/plain": [
       "<Figure size 800x800 with 0 Axes>"
      ]
     },
     "metadata": {},
     "output_type": "display_data"
    },
    {
     "data": {
      "text/plain": [
       "<Figure size 800x800 with 0 Axes>"
      ]
     },
     "metadata": {},
     "output_type": "display_data"
    },
    {
     "data": {
      "text/plain": [
       "<Figure size 800x800 with 0 Axes>"
      ]
     },
     "metadata": {},
     "output_type": "display_data"
    },
    {
     "data": {
      "text/plain": [
       "<Figure size 800x800 with 0 Axes>"
      ]
     },
     "metadata": {},
     "output_type": "display_data"
    },
    {
     "data": {
      "text/plain": [
       "<Figure size 800x800 with 0 Axes>"
      ]
     },
     "metadata": {},
     "output_type": "display_data"
    },
    {
     "data": {
      "text/plain": [
       "<Figure size 800x800 with 0 Axes>"
      ]
     },
     "metadata": {},
     "output_type": "display_data"
    },
    {
     "data": {
      "text/plain": [
       "<Figure size 800x800 with 0 Axes>"
      ]
     },
     "metadata": {},
     "output_type": "display_data"
    },
    {
     "data": {
      "text/plain": [
       "<Figure size 800x800 with 0 Axes>"
      ]
     },
     "metadata": {},
     "output_type": "display_data"
    },
    {
     "data": {
      "text/plain": [
       "<Figure size 800x800 with 0 Axes>"
      ]
     },
     "metadata": {},
     "output_type": "display_data"
    },
    {
     "data": {
      "text/plain": [
       "<Figure size 800x800 with 0 Axes>"
      ]
     },
     "metadata": {},
     "output_type": "display_data"
    },
    {
     "data": {
      "text/plain": [
       "<Figure size 800x800 with 0 Axes>"
      ]
     },
     "metadata": {},
     "output_type": "display_data"
    },
    {
     "data": {
      "text/plain": [
       "<Figure size 800x800 with 0 Axes>"
      ]
     },
     "metadata": {},
     "output_type": "display_data"
    },
    {
     "data": {
      "text/plain": [
       "<Figure size 800x800 with 0 Axes>"
      ]
     },
     "metadata": {},
     "output_type": "display_data"
    },
    {
     "data": {
      "text/plain": [
       "<Figure size 800x800 with 0 Axes>"
      ]
     },
     "metadata": {},
     "output_type": "display_data"
    },
    {
     "data": {
      "text/plain": [
       "<Figure size 800x800 with 0 Axes>"
      ]
     },
     "metadata": {},
     "output_type": "display_data"
    },
    {
     "data": {
      "text/plain": [
       "<Figure size 800x800 with 0 Axes>"
      ]
     },
     "metadata": {},
     "output_type": "display_data"
    },
    {
     "data": {
      "text/plain": [
       "<Figure size 800x800 with 0 Axes>"
      ]
     },
     "metadata": {},
     "output_type": "display_data"
    },
    {
     "data": {
      "text/plain": [
       "<Figure size 800x800 with 0 Axes>"
      ]
     },
     "metadata": {},
     "output_type": "display_data"
    },
    {
     "data": {
      "text/plain": [
       "<Figure size 800x800 with 0 Axes>"
      ]
     },
     "metadata": {},
     "output_type": "display_data"
    },
    {
     "data": {
      "text/plain": [
       "<Figure size 800x800 with 0 Axes>"
      ]
     },
     "metadata": {},
     "output_type": "display_data"
    },
    {
     "data": {
      "text/plain": [
       "<Figure size 800x800 with 0 Axes>"
      ]
     },
     "metadata": {},
     "output_type": "display_data"
    },
    {
     "data": {
      "text/plain": [
       "<Figure size 800x800 with 0 Axes>"
      ]
     },
     "metadata": {},
     "output_type": "display_data"
    },
    {
     "data": {
      "text/plain": [
       "<Figure size 800x800 with 0 Axes>"
      ]
     },
     "metadata": {},
     "output_type": "display_data"
    },
    {
     "data": {
      "text/plain": [
       "<Figure size 800x800 with 0 Axes>"
      ]
     },
     "metadata": {},
     "output_type": "display_data"
    },
    {
     "data": {
      "text/plain": [
       "<Figure size 800x800 with 0 Axes>"
      ]
     },
     "metadata": {},
     "output_type": "display_data"
    },
    {
     "data": {
      "text/plain": [
       "<Figure size 800x800 with 0 Axes>"
      ]
     },
     "metadata": {},
     "output_type": "display_data"
    },
    {
     "data": {
      "text/plain": [
       "<Figure size 800x800 with 0 Axes>"
      ]
     },
     "metadata": {},
     "output_type": "display_data"
    },
    {
     "data": {
      "text/plain": [
       "<Figure size 800x800 with 0 Axes>"
      ]
     },
     "metadata": {},
     "output_type": "display_data"
    }
   ],
   "source": [
    "def spatial_cesm_anoms_plots(siconc, psl, title, sp):\n",
    "    fig, ax = plot_stationary_sp()\n",
    "    # Plot siconc filled contours\n",
    "    img = ax.contourf(\n",
    "        siconc.TLON,\n",
    "        siconc.TLAT,\n",
    "        siconc,\n",
    "        transform=ccrs.PlateCarree(), \n",
    "        levels=np.arange(-.9, 1.1, .2),\n",
    "        cmap=\"RdBu\",\n",
    "    )\n",
    "    # Plot Surface Pressure Contours\n",
    "    con = ax.contour(\n",
    "        psl.lon,\n",
    "        psl.lat,\n",
    "        psl,\n",
    "        transform=ccrs.PlateCarree(), \n",
    "        levels=np.arange(-14, 16, 3),\n",
    "        colors=[\"black\"],\n",
    "        negative_linestyle=\"dashed\",\n",
    "    )\n",
    "    ax.clabel(con, con.levels, inline=True, fontsize=14)\n",
    "    cbar2 = fig.colorbar(img, ax=ax)\n",
    "    ax.set_title(title)\n",
    "    fig.set_size_inches(8, 8)\n",
    "    plt.savefig(sp)\n",
    "    plt.clf()\n",
    "\n",
    "# Plot sea ice concentration and MSLP\n",
    "def spatial_cesm_plots(siconc, psl, title, sp):\n",
    "    fig, ax = plot_stationary_sp()\n",
    "    # Plot siconc filled contours\n",
    "    img = ax.contourf(\n",
    "        siconc.TLON,\n",
    "        siconc.TLAT,\n",
    "        siconc.aice/100,\n",
    "        transform=ccrs.PlateCarree(), \n",
    "        levels=np.arange(0.05, 1.05, .1),\n",
    "        extend=\"max\",\n",
    "        cmap=cmocean.cm.ice,\n",
    "    )\n",
    "    # Plot Surface Pressure Contours\n",
    "    con = ax.contour(\n",
    "        psl.lon,\n",
    "        psl.lat,\n",
    "        psl,\n",
    "        levels=np.arange(950, 1005, 5),\n",
    "        transform=ccrs.PlateCarree(), \n",
    "        colors=[\"black\"],\n",
    "    )\n",
    "    ax.clabel(con, con.levels, inline=True, fontsize=14, zorder=1)\n",
    "    cbar2 = fig.colorbar(img, ax=ax)\n",
    "    ax.set_title(title)\n",
    "    fig.set_size_inches(8, 8)\n",
    "    plt.savefig(sp)\n",
    "    plt.clf()\n",
    "\n",
    "    \n",
    "def create_monthly_cesm_plots(siconc_anoms, psl_anoms, siconc, psl):\n",
    "    for year in [2021, 2022] : \n",
    "        for month in range(1, 13):\n",
    "            # Plot siconc anoms and mslp anoms\n",
    "            cur_siconc_anoms = siconc_anoms.sel(year=year, month=month)\n",
    "            cur_siconc_anoms = cur_siconc_anoms.sortby(siconc_anoms.TLON[0,:])\n",
    "            cur_psl_anoms = psl_anoms.sel(year=year, month=month)\n",
    "            \n",
    "            spatial_cesm_anoms_plots(\n",
    "                siconc=cur_siconc_anoms/100, # Convert to -1 to 1\n",
    "                psl=cur_psl_anoms/100, # Convert from Pa to hPa \n",
    "                title=f\"CESM-Nudged {year}-{month}\",\n",
    "                sp=os.path.join(f\"/glade/work/zespinosa/Projects/antarctic-2022_record-low_nudge-analysis/figures/anoms/cesm-nudged_siconc-slp-anoms_{year}-{month}.png\")\n",
    "            )\n",
    "            \n",
    "            # Plot siconc and mslp \n",
    "            cur_siconc = siconc.sel(year=year, month=month)\n",
    "            # cur_siconc = xr.where(cur_siconc <= 0.05, np.nan, cur_siconc, keep_attrs=True)\n",
    "            cur_siconc = cur_siconc.sortby(siconc.TLON[0,:])\n",
    "            cur_psl = psl.sel(year=year, month=month)\n",
    "            \n",
    "            spatial_cesm_plots(\n",
    "                siconc=cur_siconc, # Convert to -1 to 1\n",
    "                psl=cur_psl/100, # Convert from Pa to hPa \n",
    "                title=f\"CESM-Nudged {year}-{month}\",\n",
    "                sp=os.path.join(f\"/glade/work/zespinosa/Projects/antarctic-2022_record-low_nudge-analysis/figures/absolute/cesm-nudged_siconc-slp_{year}-{month}.png\")\n",
    "            )\n",
    "\n",
    "create_monthly_cesm_plots(\n",
    "    siconc_anoms=cesm_nudged_siconc_anoms, \n",
    "    psl_anoms=cesm_nudged_psl_anoms,\n",
    "    siconc=cesm_nudged_siconc,\n",
    "    psl=cesm_nudged_psl,\n",
    ")"
   ]
  },
  {
   "cell_type": "code",
   "execution_count": null,
   "id": "4283f358-9aa9-4b92-8b20-6fa109e91ec5",
   "metadata": {},
   "outputs": [],
   "source": [
    "def spatial_plot(siconc, title, lon, lat, levels=np.arange(-100, 110, 10), cmap=\"RdBu\"):\n",
    "    fig, ax = plot_stationary_sp()\n",
    "    img = ax.contourf(\n",
    "        lon,\n",
    "        lat,\n",
    "        siconc,\n",
    "        transform=ccrs.PlateCarree(), \n",
    "        levels=levels,\n",
    "        # vmin=-0.90,\n",
    "        # vmax=0.90,\n",
    "        cmap=cmap,\n",
    "    )\n",
    "    cbar2 = fig.colorbar(img, ax=ax)\n",
    "    ax.set_title(title)\n",
    "    fig.set_size_inches(6, 6)\n",
    "    \n",
    "def spatial_plot_atm(siconc, title, lon, lat, levels=np.arange(-14, 16, 2), cmap=\"RdBu\"):\n",
    "    fig, ax = plot_stationary_sp()\n",
    "    img = ax.contour(\n",
    "        lon,\n",
    "        lat,\n",
    "        siconc,\n",
    "        transform=ccrs.PlateCarree(), \n",
    "        levels=levels,\n",
    "        colors=[\"black\"],\n",
    "        negative_linestyle=\"dashed\",\n",
    "    )\n",
    "    ax.clabel(img, img.levels, inline=True, fontsize=14)\n",
    "    ax.set_title(title)\n",
    "    fig.set_size_inches(6, 6)"
   ]
  }
 ],
 "metadata": {
  "kernelspec": {
   "display_name": "Python 3 (ipykernel)",
   "language": "python",
   "name": "python3"
  },
  "language_info": {
   "codemirror_mode": {
    "name": "ipython",
    "version": 3
   },
   "file_extension": ".py",
   "mimetype": "text/x-python",
   "name": "python",
   "nbconvert_exporter": "python",
   "pygments_lexer": "ipython3",
   "version": "3.8.13"
  }
 },
 "nbformat": 4,
 "nbformat_minor": 5
}
