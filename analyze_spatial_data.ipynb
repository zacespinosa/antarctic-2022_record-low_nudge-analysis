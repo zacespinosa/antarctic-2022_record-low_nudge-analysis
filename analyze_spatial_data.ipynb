{
 "cells": [
  {
   "cell_type": "code",
   "execution_count": 3,
   "id": "a1015e40-53de-46cb-b19e-6866213181c8",
   "metadata": {},
   "outputs": [],
   "source": [
    "import os\n",
    "import sys\n",
    "from glob import glob\n",
    "\n",
    "import cartopy.crs as ccrs\n",
    "import cmocean\n",
    "import dask\n",
    "import matplotlib.colors as colors\n",
    "import matplotlib.pyplot as plt\n",
    "import numpy as np\n",
    "import xarray as xr\n",
    "\n",
    "# Local Utils\n",
    "sys.path.insert(0, \"/glade/work/zespinosa/Projects/utils\")\n",
    "from utils import (\n",
    "    plot_stationary_sp,\n",
    "    xarray_monthly_to_time,\n",
    "    xarray_time_to_monthly,\n",
    ")"
   ]
  },
  {
   "cell_type": "markdown",
   "id": "f8af6d2f-0a7c-49fb-b15b-b9c3aa6413e5",
   "metadata": {},
   "source": [
    "LOAD DATA"
   ]
  },
  {
   "cell_type": "code",
   "execution_count": 47,
   "id": "56ca1bfa-1cb2-4870-8ccf-0cd034ef8d8c",
   "metadata": {},
   "outputs": [],
   "source": [
    "# Load cesm-nudged psl\n",
    "cesm_nudged_psl_anoms = xr.open_dataarray(\"/glade/work/zespinosa/Projects/antarctic-2022_record-low_nudge-analysis/processed_data/cesm-nudged_psl_anoms_198501-202412.nc\")\n",
    "cesm_nudged_psl = xr.open_dataarray(\"/glade/work/zespinosa/Projects/antarctic-2022_record-low_nudge-analysis/processed_data/cesm-nudged_psl_198501-202412.nc\")\n",
    "\n",
    "# Load cesm-nudged siconc\n",
    "cesm_nudged_siconc_anoms = xr.open_dataarray(\"/glade/work/zespinosa/Projects/antarctic-2022_record-low_nudge-analysis/processed_data/cesm_nudged_siconc-anoms_198501-202412.nc\")\n",
    "cesm_nudged_siconc = xr.open_dataset(\"/glade/work/zespinosa/Projects/antarctic-2022_record-low_nudge-analysis/processed_data/cesm_nudged_siconc_198501-202412.nc\")\n",
    "\n",
    "# Load nsidc siconc\n",
    "nsidc_siconc_anoms = xr.open_dataarray(\"/glade/work/zespinosa/Projects/antarctic-2022_record-low_nudge-analysis/processed_data/nsidc_siconc-anoms_197901-202211.nc\")\n",
    "nsidc_siconc = xr.open_dataset(\"/glade/work/zespinosa/Projects/antarctic-2022_record-low_nudge-analysis/processed_data/nsidc_siconc-anoms_197901-202211.nc\")\n",
    "\n",
    "# Load era5 psl\n",
    "era5_slp = xr.open_dataset(\"/glade/work/zespinosa/Projects/antarctic-2022_record-low_nudge-analysis/processed_data/era5_slp-monthly_197901-202211.nc\")\n",
    "era5_slp_anoms = xr.open_dataarray(\"/glade/work/zespinosa/Projects/antarctic-2022_record-low_nudge-analysis/processed_data/era5_slp-anoms_197901-202211.nc\")"
   ]
  },
  {
   "cell_type": "markdown",
   "id": "09cefd72-c528-47ca-9d8d-098537db9fe6",
   "metadata": {},
   "source": [
    "Observations Spatial Plots"
   ]
  },
  {
   "cell_type": "code",
   "execution_count": 54,
   "id": "0c04b635-5c1b-44aa-9b71-802e2cbc9ad7",
   "metadata": {},
   "outputs": [],
   "source": [
    "def spatial_obs_plots(siconc, psl, title, sp):\n",
    "    fig, ax = plot_stationary_sp()\n",
    "    # Plot siconc filled contours\n",
    "    img = ax.contourf(\n",
    "        siconc.longitude,\n",
    "        siconc.latitude,\n",
    "        siconc,\n",
    "        transform=ccrs.SouthPolarStereo(), \n",
    "        levels=np.arange(-.9, 1.1, .2),\n",
    "        cmap=\"RdBu\",\n",
    "    )\n",
    "    # Plot Surface Pressure Contours\n",
    "    con = ax.contour(\n",
    "        psl.longitude,\n",
    "        psl.latitude,\n",
    "        psl,\n",
    "        transform=ccrs.PlateCarree(), \n",
    "        levels=np.arange(-14, 16, 3),\n",
    "        colors=[\"black\"],\n",
    "        negative_linestyle=\"dashed\",\n",
    "    )\n",
    "    ax.clabel(con, con.levels, inline=True, fontsize=14)\n",
    "    cbar2 = fig.colorbar(img, ax=ax)\n",
    "    ax.set_title(title)\n",
    "    fig.set_size_inches(8, 8)\n",
    "    plt.savefig(sp)\n",
    "    plt.clf()\n",
    "\n",
    "def create_monthly_obs_plots(siconc, psl):\n",
    "    for year in [2021, 2022] : \n",
    "        for month in range(1, 13):\n",
    "            cur_siconc = siconc.sel(year=year, month=month)\n",
    "            cur_psl = psl.sel(year=year, month=month)\n",
    "            spatial_obs_plots(\n",
    "                siconc=cur_siconc,\n",
    "                psl=cur_psl/100, # Convert from Pa to hPa \n",
    "                title=f\"Observations {year}-{month}\",\n",
    "                sp=os.path.join(f\"/glade/work/zespinosa/Projects/antarctic-2022_record-low_nudge-analysis/figures/observations_siconc-slp-anoms_{year}-{month}.png\")\n",
    "            )\n",
    "\n",
    "# create_monthly_obs_plots(nsidc_siconc_anoms, era5_slp_anoms)"
   ]
  },
  {
   "cell_type": "code",
   "execution_count": null,
   "id": "ec95051a-2e66-45d4-b444-7546ce78471c",
   "metadata": {},
   "outputs": [],
   "source": [
    "CESM1-Nudged Spatial Plots"
   ]
  },
  {
   "cell_type": "code",
   "execution_count": 55,
   "id": "05534ab0-7a1a-44af-a980-4ba5187623e0",
   "metadata": {},
   "outputs": [
    {
     "data": {
      "text/plain": [
       "<Figure size 800x800 with 0 Axes>"
      ]
     },
     "metadata": {},
     "output_type": "display_data"
    },
    {
     "data": {
      "text/plain": [
       "<Figure size 800x800 with 0 Axes>"
      ]
     },
     "metadata": {},
     "output_type": "display_data"
    },
    {
     "data": {
      "text/plain": [
       "<Figure size 800x800 with 0 Axes>"
      ]
     },
     "metadata": {},
     "output_type": "display_data"
    },
    {
     "data": {
      "text/plain": [
       "<Figure size 800x800 with 0 Axes>"
      ]
     },
     "metadata": {},
     "output_type": "display_data"
    },
    {
     "data": {
      "text/plain": [
       "<Figure size 800x800 with 0 Axes>"
      ]
     },
     "metadata": {},
     "output_type": "display_data"
    },
    {
     "data": {
      "text/plain": [
       "<Figure size 800x800 with 0 Axes>"
      ]
     },
     "metadata": {},
     "output_type": "display_data"
    },
    {
     "data": {
      "text/plain": [
       "<Figure size 800x800 with 0 Axes>"
      ]
     },
     "metadata": {},
     "output_type": "display_data"
    },
    {
     "data": {
      "text/plain": [
       "<Figure size 800x800 with 0 Axes>"
      ]
     },
     "metadata": {},
     "output_type": "display_data"
    },
    {
     "data": {
      "text/plain": [
       "<Figure size 800x800 with 0 Axes>"
      ]
     },
     "metadata": {},
     "output_type": "display_data"
    },
    {
     "data": {
      "text/plain": [
       "<Figure size 800x800 with 0 Axes>"
      ]
     },
     "metadata": {},
     "output_type": "display_data"
    },
    {
     "data": {
      "text/plain": [
       "<Figure size 800x800 with 0 Axes>"
      ]
     },
     "metadata": {},
     "output_type": "display_data"
    },
    {
     "data": {
      "text/plain": [
       "<Figure size 800x800 with 0 Axes>"
      ]
     },
     "metadata": {},
     "output_type": "display_data"
    },
    {
     "data": {
      "text/plain": [
       "<Figure size 800x800 with 0 Axes>"
      ]
     },
     "metadata": {},
     "output_type": "display_data"
    },
    {
     "data": {
      "text/plain": [
       "<Figure size 800x800 with 0 Axes>"
      ]
     },
     "metadata": {},
     "output_type": "display_data"
    },
    {
     "data": {
      "text/plain": [
       "<Figure size 800x800 with 0 Axes>"
      ]
     },
     "metadata": {},
     "output_type": "display_data"
    },
    {
     "data": {
      "text/plain": [
       "<Figure size 800x800 with 0 Axes>"
      ]
     },
     "metadata": {},
     "output_type": "display_data"
    },
    {
     "data": {
      "text/plain": [
       "<Figure size 800x800 with 0 Axes>"
      ]
     },
     "metadata": {},
     "output_type": "display_data"
    },
    {
     "data": {
      "text/plain": [
       "<Figure size 800x800 with 0 Axes>"
      ]
     },
     "metadata": {},
     "output_type": "display_data"
    },
    {
     "data": {
      "text/plain": [
       "<Figure size 800x800 with 0 Axes>"
      ]
     },
     "metadata": {},
     "output_type": "display_data"
    },
    {
     "data": {
      "text/plain": [
       "<Figure size 800x800 with 0 Axes>"
      ]
     },
     "metadata": {},
     "output_type": "display_data"
    },
    {
     "data": {
      "text/plain": [
       "<Figure size 800x800 with 0 Axes>"
      ]
     },
     "metadata": {},
     "output_type": "display_data"
    },
    {
     "data": {
      "text/plain": [
       "<Figure size 800x800 with 0 Axes>"
      ]
     },
     "metadata": {},
     "output_type": "display_data"
    },
    {
     "data": {
      "text/plain": [
       "<Figure size 800x800 with 0 Axes>"
      ]
     },
     "metadata": {},
     "output_type": "display_data"
    },
    {
     "data": {
      "text/plain": [
       "<Figure size 800x800 with 0 Axes>"
      ]
     },
     "metadata": {},
     "output_type": "display_data"
    }
   ],
   "source": [
    "def spatial_cesm_plots(siconc, psl, title, sp):\n",
    "    fig, ax = plot_stationary_sp()\n",
    "    # Plot siconc filled contours\n",
    "    img = ax.contourf(\n",
    "        siconc.TLON,\n",
    "        siconc.TLAT,\n",
    "        siconc,\n",
    "        transform=ccrs.PlateCarree(), \n",
    "        levels=np.arange(-.9, 1.1, .2),\n",
    "        cmap=\"RdBu\",\n",
    "    )\n",
    "    # Plot Surface Pressure Contours\n",
    "    con = ax.contour(\n",
    "        psl.lon,\n",
    "        psl.lat,\n",
    "        psl,\n",
    "        transform=ccrs.PlateCarree(), \n",
    "        levels=np.arange(-14, 16, 3),\n",
    "        colors=[\"black\"],\n",
    "        negative_linestyle=\"dashed\",\n",
    "    )\n",
    "    ax.clabel(con, con.levels, inline=True, fontsize=14)\n",
    "    cbar2 = fig.colorbar(img, ax=ax)\n",
    "    ax.set_title(title)\n",
    "    fig.set_size_inches(8, 8)\n",
    "    plt.savefig(sp)\n",
    "    plt.clf()\n",
    "\n",
    "def create_monthly_cesm_plots():\n",
    "    for year in [2021, 2022] : \n",
    "        for month in range(1, 13):\n",
    "            cur_cesm_nudged_siconc_anoms = cesm_nudged_siconc_anoms.sel(year=year, month=month)\n",
    "            cur_cesm_nudged_psl = cesm_nudged_psl_anoms.sel(year=year, month=month)\n",
    "            spatial_plots(\n",
    "                siconc=cesm_nudged_siconc_anoms_loaded/100, # Convert to -1 to 1\n",
    "                psl=cesm_nudged_psl_anoms_loaded/100, # Convert from Pa to hPa \n",
    "                title=f\"CESM-Nudged {year}-{month}\",\n",
    "                sp=os.path.join(f\"/glade/work/zespinosa/Projects/antarctic-2022_record-low_nudge-analysis/figures/cesm-nudged_siconc-slp-anoms_{year}-{month}.png\")\n",
    "            )\n",
    "\n",
    "create_monthly_cesm_plots()"
   ]
  },
  {
   "cell_type": "code",
   "execution_count": null,
   "id": "4283f358-9aa9-4b92-8b20-6fa109e91ec5",
   "metadata": {},
   "outputs": [],
   "source": [
    "\n",
    "def spatial_plot(siconc, title, lon, lat, levels=np.arange(-100, 110, 10), cmap=\"RdBu\"):\n",
    "    fig, ax = plot_stationary_sp()\n",
    "    img = ax.contourf(\n",
    "        lon,\n",
    "        lat,\n",
    "        siconc,\n",
    "        transform=ccrs.PlateCarree(), \n",
    "        levels=levels,\n",
    "        # vmin=-0.90,\n",
    "        # vmax=0.90,\n",
    "        cmap=cmap,\n",
    "    )\n",
    "    cbar2 = fig.colorbar(img, ax=ax)\n",
    "    ax.set_title(title)\n",
    "    fig.set_size_inches(6, 6)\n",
    "    \n",
    "def spatial_plot_atm(siconc, title, lon, lat, levels=np.arange(-14, 16, 2), cmap=\"RdBu\"):\n",
    "    fig, ax = plot_stationary_sp()\n",
    "    img = ax.contour(\n",
    "        lon,\n",
    "        lat,\n",
    "        siconc,\n",
    "        transform=ccrs.PlateCarree(), \n",
    "        levels=levels,\n",
    "        colors=[\"black\"],\n",
    "        negative_linestyle=\"dashed\",\n",
    "    )\n",
    "    ax.clabel(img, img.levels, inline=True, fontsize=14)\n",
    "    ax.set_title(title)\n",
    "    fig.set_size_inches(6, 6)\n",
    "    \n",
    "# spatial_plot_atm(plotting_data/100, \"mslp\", levels=np.arange(-14, 16, 2), lat=plotting_data.lat, lon=plotting_data.lon)\n",
    "# Sanity check spatial detrending\n",
    "# spatial_plot(  \n",
    "#     siconcObs_anoms.sel(year=2022, month=2).squeeze(),\n",
    "#     lat=siconcObs_anoms.latitude,\n",
    "#     lon=siconcObs_anoms.longitude,\n",
    "#     title=\"total\",\n",
    "#     # levels=np.arange(-.9, 1.1, .2)\n",
    "# )\n",
    "\n",
    "# plt.plot(sieObs_anoms.year, sieObs_anoms.sel(region=\"total\", month=2))\n",
    "# plotting_data = siconcCESM_anoms.sel(year=2022, month=2).load()\n",
    "# xs, ys, data_to_plot = convert_coords(\n",
    "#     lat=plotting_data.TLAT,\n",
    "#     lon=plotting_data.TLON,\n",
    "#     og_data=plotting_data,\n",
    "#     ccrs_grid=ccrs.SouthPolarStereo(),\n",
    "# )\n",
    "\n",
    "# # sanity check spatial detrending\n",
    "# spatial_plot(plotting_data, title=\"2022-02\", lon=plotting_data.TLON, lat=plotting_data.TLAT)"
   ]
  }
 ],
 "metadata": {
  "kernelspec": {
   "display_name": "Python 3 (ipykernel)",
   "language": "python",
   "name": "python3"
  },
  "language_info": {
   "codemirror_mode": {
    "name": "ipython",
    "version": 3
   },
   "file_extension": ".py",
   "mimetype": "text/x-python",
   "name": "python",
   "nbconvert_exporter": "python",
   "pygments_lexer": "ipython3",
   "version": "3.8.13"
  }
 },
 "nbformat": 4,
 "nbformat_minor": 5
}
