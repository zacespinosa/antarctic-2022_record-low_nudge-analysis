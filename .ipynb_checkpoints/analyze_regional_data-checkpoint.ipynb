{
 "cells": [
  {
   "cell_type": "code",
   "execution_count": 1,
   "id": "86044524-2406-4c03-8373-1a694c141559",
   "metadata": {},
   "outputs": [],
   "source": [
    "import os\n",
    "import sys\n",
    "from glob import glob\n",
    "\n",
    "import cartopy.crs as ccrs\n",
    "import dask\n",
    "import matplotlib.colors as colors\n",
    "import matplotlib.pyplot as plt\n",
    "import numpy as np\n",
    "import xarray as xr\n",
    "\n",
    "# Local Utils\n",
    "sys.path.insert(0, \"/glade/work/zespinosa/Projects/utils\")\n",
    "from utils import (\n",
    "    plot_stationary_sp,\n",
    "    xarray_monthly_to_time,\n",
    "    xarray_time_to_monthly,\n",
    "    detrend_data\n",
    ")"
   ]
  },
  {
   "cell_type": "markdown",
   "id": "a924b265-3789-4441-87bb-d670226fab0f",
   "metadata": {},
   "source": [
    "TODO (10/7/2022): \n",
    "1. Create repo for utils\n",
    "2. Compare forecast\n",
    "3. Compare extreme events\n",
    "4. Sanity check with Turner paper\n",
    "5. Add CC about sea ice thickness product\n",
    "6. Create last few months of era5\n",
    "7. Alias cm on git"
   ]
  },
  {
   "cell_type": "markdown",
   "id": "79ffa047-4358-42c3-8bdf-1e7247369b39",
   "metadata": {},
   "source": [
    "Load CESM siconc data, calculate sia and sie in regions, and get detrended anomalies"
   ]
  },
  {
   "cell_type": "code",
   "execution_count": 2,
   "id": "713887dd-86a9-4793-a994-1656f718d3fa",
   "metadata": {},
   "outputs": [],
   "source": [
    "# Load cesm-nudged siconc\n",
    "cesm_nudged_siconc = xr.open_dataset(\"/glade/work/zespinosa/Projects/antarctic-2022_record-low_nudge-analysis/processed_data/cesm_nudged_siconc_198501-202412.nc\")"
   ]
  },
  {
   "cell_type": "code",
   "execution_count": null,
   "id": "0dfd1a69-f381-486a-9cd0-fba3e425912b",
   "metadata": {},
   "outputs": [],
   "source": [
    "def get_regions_cesm(cesm_ice, lat, lon, plot_sanity=True):\n",
    "    regional_bounds = {\n",
    "        \"total\": (0, 360),\n",
    "        \"ross\": (150, 210),\n",
    "        \"amundsen\": (210, 250),\n",
    "        \"bellingshausen\": (250, 295),\n",
    "        \"weddell\": (295, 360),\n",
    "        \"south_indian\": (0, 75),\n",
    "        \"south_west_pacific\": (75, 150),\n",
    "    }\n",
    "\n",
    "    # Calculate sea ice concentration and extract Southern Hemisphere only\n",
    "    siconc = xr.where(lat < 0, (cesm_ice.aice * cesm_ice.tmask) / 100, 0)\n",
    "    siconc_regions = siconc.expand_dims({\"region\": list(regional_bounds.keys())}).copy()\n",
    "\n",
    "    for i, (reg, (lonMin, lonMax)) in enumerate(regional_bounds.items()):\n",
    "        \n",
    "        if plot_sanity: \n",
    "            pass\n",
    "        \n",
    "        \n",
    "        # Extract area data for region\n",
    "        siconc_regions[i] = xr.where(\n",
    "            (lon >= lonMin) & (lon < lonMax), siconc_regions[i], np.nan\n",
    "        )\n",
    "\n",
    "    return siconc_regions\n",
    "\n",
    "get_regions_cesm(cesm_nudged_siconc)"
   ]
  },
  {
   "cell_type": "markdown",
   "id": "0094533c-5392-4b4f-b3df-1e39a2caeb95",
   "metadata": {},
   "source": [
    "Load NSIDC sia and sie, and get detrended anomalies"
   ]
  }
 ],
 "metadata": {
  "kernelspec": {
   "display_name": "Python 3 (ipykernel)",
   "language": "python",
   "name": "python3"
  },
  "language_info": {
   "codemirror_mode": {
    "name": "ipython",
    "version": 3
   },
   "file_extension": ".py",
   "mimetype": "text/x-python",
   "name": "python",
   "nbconvert_exporter": "python",
   "pygments_lexer": "ipython3",
   "version": "3.8.13"
  }
 },
 "nbformat": 4,
 "nbformat_minor": 5
}
