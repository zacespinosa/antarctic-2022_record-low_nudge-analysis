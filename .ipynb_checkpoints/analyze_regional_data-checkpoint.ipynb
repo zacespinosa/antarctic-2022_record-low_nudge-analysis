{
 "cells": [
  {
   "cell_type": "code",
   "execution_count": 1,
   "id": "86044524-2406-4c03-8373-1a694c141559",
   "metadata": {},
   "outputs": [],
   "source": [
    "import os\n",
    "import sys\n",
    "from glob import glob\n",
    "\n",
    "import cartopy.crs as ccrs\n",
    "import cmocean\n",
    "import dask\n",
    "import matplotlib.colors as colors\n",
    "import matplotlib.pyplot as plt\n",
    "import numpy as np\n",
    "import xarray as xr\n",
    "\n",
    "# Local Utils\n",
    "sys.path.insert(0, \"/glade/work/zespinosa/Projects/utils\")\n",
    "from utils import (\n",
    "    plot_stationary_sp,\n",
    "    xarray_monthly_to_time,\n",
    "    xarray_time_to_monthly,\n",
    "    detrend_data,\n",
    ")"
   ]
  },
  {
   "cell_type": "markdown",
   "id": "a924b265-3789-4441-87bb-d670226fab0f",
   "metadata": {},
   "source": [
    "TODO (10/7/2022): \n",
    "1. Create repo for utils\n",
    "2. Compare forecast\n",
    "3. Compare extreme events\n",
    "4. Sanity check with Turner paper\n",
    "5. Add CC about sea ice thickness product\n",
    "6. Create last few months of era5\n",
    "7. Alias cm on git"
   ]
  },
  {
   "cell_type": "code",
   "execution_count": 3,
   "id": "a80db12e-b976-4cb7-8902-32ffdd230c40",
   "metadata": {},
   "outputs": [],
   "source": [
    "def calc_sia_and_sie_cesm(siconc, grid):\n",
    "    \"\"\"\n",
    "    Calculate sea ice area and sea ice extent from nsidc data\n",
    "    \n",
    "    Arguments:\n",
    "    -----------\n",
    "        siconc [Dataset, DataArray](..., latitude, longitude)\n",
    "\n",
    "    Returns:\n",
    "    --------\n",
    "        si [Dataset](..., sia, sie)\n",
    "    \"\"\"\n",
    "\n",
    "    sia = (siconc * grid).sum([\"longitude\", \"latitude\"], skipna=True, min_count=100) / 1e6\n",
    "    sie = xr.where(siconc >= 0.15, grid, 0).sum([\"longitude\", \"latitude\"], skipna=True, min_count=100) / 1e6\n",
    "    \n",
    "    si = xr.Dataset(data_vars={\"sia\": sia, \"sie\": sie})\n",
    "    si.attrs['processed'] = 'SIA and SIE computed by Zac Espinosa'\n",
    "    \n",
    "    return si\n",
    "    \n",
    "# Plot sea ice concentratio \n",
    "def spatial_cesm_plot(siconc, lon, lat, title):\n",
    "    fig, ax = plot_stationary_sp()\n",
    "    # Plot siconc filled contours\n",
    "    img = ax.contourf(\n",
    "        lon,\n",
    "        lat, \n",
    "        siconc/100,\n",
    "        transform=ccrs.PlateCarree(), \n",
    "        levels=np.arange(0, 1.1, .1),\n",
    "        cmap=cmocean.cm.ice,\n",
    "    )\n",
    "    cbar2 = fig.colorbar(img, ax=ax)\n",
    "    ax.set_title(title)\n",
    "    fig.set_size_inches(5, 5)"
   ]
  },
  {
   "cell_type": "markdown",
   "id": "79ffa047-4358-42c3-8bdf-1e7247369b39",
   "metadata": {},
   "source": [
    "Load CESM siconc data, calculate sia and sie in regions, and get detrended anomalies"
   ]
  },
  {
   "cell_type": "code",
   "execution_count": 4,
   "id": "713887dd-86a9-4793-a994-1656f718d3fa",
   "metadata": {},
   "outputs": [],
   "source": [
    "# Load cesm-nudged siconc\n",
    "cesm_nudged_siconc = xr.open_dataset(\"/glade/work/zespinosa/Projects/antarctic-2022_record-low_nudge-analysis/processed_data/cesm_nudged_siconc_198501-202412.nc\")\n",
    "cesm_areacello = xr.open_dataset(\"/glade/work/zespinosa/GRIDS/areacello_fx_CESM1-CAM5_historical_r0i0p0.nc\").areacello\n",
    "cesm_areacello = cesm_areacello.rename({\"j\": \"longitude\", \"i\": 'latitude'})"
   ]
  },
  {
   "cell_type": "code",
   "execution_count": 8,
   "id": "0dfd1a69-f381-486a-9cd0-fba3e425912b",
   "metadata": {},
   "outputs": [],
   "source": [
    "# Calculate sia and sie for each region\n",
    "def calc_regions_cesm(siconc, grid, regional_bounds=None, sanity_check=True):\n",
    "    if regional_bounds == None:\n",
    "        regional_bounds = {\n",
    "            \"ross\": (155, 215),\n",
    "            \"amundsen\": (215, 255),\n",
    "            \"bellingshausen\": (255, 295),\n",
    "            \"weddell\": (295, 360),\n",
    "            \"south_indian\": (0, 75),\n",
    "            \"south_west_pacific\": (75, 155),\n",
    "            \"total\": (0, 360),\n",
    "        }\n",
    "    \n",
    "    siconc = siconc.sortby(siconc.TLON[0,:])\n",
    "    grid = grid.sortby(siconc.TLON[0,:])\n",
    "    \n",
    "    si_regions = []\n",
    "    for i, (reg, (lonMin, lonMax)) in enumerate(regional_bounds.items()):\n",
    "        siconc_region = siconc.aice.where(((siconc.TLON >= lonMin) & (siconc.TLON < lonMax)), np.nan)        \n",
    "        if sanity_check: spatial_cesm_plot(siconc_region.sel(year=2021, month=8), siconc.TLON, siconc.TLAT, reg)\n",
    "        si_regions.append(calc_sia_and_sie_cesm(siconc_region, grid))\n",
    "        \n",
    "    si_regions = xr.concat(si_regions, dim=\"region\")\n",
    "    si_regions[\"region\"] = list(regional_bounds.keys())\n",
    "    return si_regions\n",
    "\n",
    "\n",
    "siCESM = calc_regions_cesm(cesm_nudged_siconc, cesm_areacello, sanity_check=False)\n",
    "siCESM.to_netcdf(\"/glade/work/zespinosa/Projects/antarctic-2022_record-low_nudge-analysis/processed_data/cesm_nudged_sia_sie_198501-202412.nc\")\n",
    "\n",
    "siaCESM_anoms = detrend_data(siCESM.sia, siCESM.year, \"year\", deg=1)\n",
    "sieCESM_anoms = detrend_data(siCESM.sie, siCESM.year, \"year\", deg=1)\n",
    "siaCESM_anoms.to_netcdf(\"/glade/work/zespinosa/Projects/antarctic-2022_record-low_nudge-analysis/processed_data/cesm_nudged_sia_anoms_198501-202412.nc\")\n",
    "sieCESM_anoms.to_netcdf(\"/glade/work/zespinosa/Projects/antarctic-2022_record-low_nudge-analysis/processed_data/cesm_nudged_sie_anoms_198501-202412.nc\")"
   ]
  },
  {
   "cell_type": "markdown",
   "id": "d6e6cc45-525d-4b6d-8865-132e25070628",
   "metadata": {},
   "source": [
    "Load NSIDC sia and sie in regions and get detrended anomalies"
   ]
  },
  {
   "cell_type": "code",
   "execution_count": 11,
   "id": "194145d2-4bad-44f8-8589-14c92bc04718",
   "metadata": {},
   "outputs": [],
   "source": [
    "siNSIDC_regions = xr.open_dataset(\"/glade/work/zespinosa/data/nsidc/processed/sia_sie_NSIDC_197901-202210.nc\")\n",
    "siNSIDC_regions = xarray_time_to_monthly(siNSIDC_regions)\n",
    "siaNSIDC_anoms = detrend_data(siNSIDC_regions.sia, siNSIDC_regions.year, \"year\", deg=1)\n",
    "sieNSIDC_anoms = detrend_data(siNSIDC_regions.sie, siNSIDC_regions.year, \"year\", deg=1)"
   ]
  },
  {
   "cell_type": "markdown",
   "id": "f2973001-244b-46bf-b3c5-37dc68d6f342",
   "metadata": {},
   "source": [
    "Compare regional time series"
   ]
  },
  {
   "cell_type": "code",
   "execution_count": null,
   "id": "d8921756-16fe-498a-af79-5a57fc021387",
   "metadata": {},
   "outputs": [],
   "source": [
    "def regional_plots():\n",
    "    fig, axs = plt.subplots(4,2, figsize=(15, 15))\n",
    "    for cols in axs: \n",
    "        for ax in cols:\n",
    "            ax.plot(siaNSIDC_anoms.sel(region=\"ross\").mean([\"month\"]), label=\"cesm\")\n",
    "            ax.plot((siaCESM_anoms.sel(region=\"ross\").mean([\"month\"]) / 1e8), label=\"nsidc\") \n",
    "    \n",
    "    fig.delaxes(axs[-1,-1])\n",
    "\n",
    "regional_plots()"
   ]
  },
  {
   "cell_type": "code",
   "execution_count": null,
   "id": "7856b51d-080c-4241-a653-96adb84c269c",
   "metadata": {},
   "outputs": [],
   "source": []
  }
 ],
 "metadata": {
  "kernelspec": {
   "display_name": "Python 3 (ipykernel)",
   "language": "python",
   "name": "python3"
  },
  "language_info": {
   "codemirror_mode": {
    "name": "ipython",
    "version": 3
   },
   "file_extension": ".py",
   "mimetype": "text/x-python",
   "name": "python",
   "nbconvert_exporter": "python",
   "pygments_lexer": "ipython3",
   "version": "3.8.13"
  }
 },
 "nbformat": 4,
 "nbformat_minor": 5
}
